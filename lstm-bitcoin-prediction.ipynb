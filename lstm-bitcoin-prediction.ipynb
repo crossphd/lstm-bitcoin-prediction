{
 "cells": [
  {
   "cell_type": "code",
   "execution_count": 8,
   "metadata": {},
   "outputs": [
    {
     "name": "stderr",
     "output_type": "stream",
     "text": [
      "Using TensorFlow backend.\n"
     ]
    }
   ],
   "source": [
    "import json\n",
    "import requests\n",
    "\n",
    "from keras.models import Sequential\n",
    "from keras.layers import Activation, Dense, Dropout, LSTM\n",
    "import matplotlib.pyplot as plt\n",
    "import numpy as np\n",
    "import pandas as pd\n",
    "import seaborn as sns\n",
    "from sklearn.metrics import mean_absolute_error\n",
    "\n",
    "# sns.set_palette('Set2')\n",
    "# %matplotlib inline"
   ]
  },
  {
   "cell_type": "code",
   "execution_count": 9,
   "metadata": {
    "collapsed": true
   },
   "outputs": [],
   "source": [
    "endpoint = 'https://min-api.cryptocompare.com/data/histoday'\n",
    "res = requests.get(endpoint + '?fsym=BTC&tsym=USD&limit=2000')\n",
    "hist = pd.DataFrame(json.loads(res.content)['Data'])\n",
    "hist = hist.set_index('time')\n",
    "hist.index = pd.to_datetime(hist.index, unit='s')"
   ]
  },
  {
   "cell_type": "code",
   "execution_count": 10,
   "metadata": {
    "scrolled": true
   },
   "outputs": [
    {
     "data": {
      "text/html": [
       "<div>\n",
       "<style scoped>\n",
       "    .dataframe tbody tr th:only-of-type {\n",
       "        vertical-align: middle;\n",
       "    }\n",
       "\n",
       "    .dataframe tbody tr th {\n",
       "        vertical-align: top;\n",
       "    }\n",
       "\n",
       "    .dataframe thead th {\n",
       "        text-align: right;\n",
       "    }\n",
       "</style>\n",
       "<table border=\"1\" class=\"dataframe\">\n",
       "  <thead>\n",
       "    <tr style=\"text-align: right;\">\n",
       "      <th></th>\n",
       "      <th>close</th>\n",
       "      <th>high</th>\n",
       "      <th>low</th>\n",
       "      <th>open</th>\n",
       "      <th>volumefrom</th>\n",
       "      <th>volumeto</th>\n",
       "    </tr>\n",
       "    <tr>\n",
       "      <th>time</th>\n",
       "      <th></th>\n",
       "      <th></th>\n",
       "      <th></th>\n",
       "      <th></th>\n",
       "      <th></th>\n",
       "      <th></th>\n",
       "    </tr>\n",
       "  </thead>\n",
       "  <tbody>\n",
       "    <tr>\n",
       "      <th>2012-10-27</th>\n",
       "      <td>10.26</td>\n",
       "      <td>10.84</td>\n",
       "      <td>9.82</td>\n",
       "      <td>10.17</td>\n",
       "      <td>47869.83</td>\n",
       "      <td>496747.54</td>\n",
       "    </tr>\n",
       "    <tr>\n",
       "      <th>2012-10-28</th>\n",
       "      <td>10.70</td>\n",
       "      <td>10.95</td>\n",
       "      <td>10.25</td>\n",
       "      <td>10.26</td>\n",
       "      <td>22389.59</td>\n",
       "      <td>236640.50</td>\n",
       "    </tr>\n",
       "    <tr>\n",
       "      <th>2012-10-29</th>\n",
       "      <td>10.60</td>\n",
       "      <td>10.94</td>\n",
       "      <td>10.32</td>\n",
       "      <td>10.70</td>\n",
       "      <td>37574.81</td>\n",
       "      <td>400173.50</td>\n",
       "    </tr>\n",
       "    <tr>\n",
       "      <th>2012-10-30</th>\n",
       "      <td>10.89</td>\n",
       "      <td>10.89</td>\n",
       "      <td>10.58</td>\n",
       "      <td>10.60</td>\n",
       "      <td>26023.32</td>\n",
       "      <td>279843.08</td>\n",
       "    </tr>\n",
       "    <tr>\n",
       "      <th>2012-10-31</th>\n",
       "      <td>11.20</td>\n",
       "      <td>11.21</td>\n",
       "      <td>10.71</td>\n",
       "      <td>10.89</td>\n",
       "      <td>40673.45</td>\n",
       "      <td>448359.79</td>\n",
       "    </tr>\n",
       "  </tbody>\n",
       "</table>\n",
       "</div>"
      ],
      "text/plain": [
       "            close   high    low   open  volumefrom   volumeto\n",
       "time                                                         \n",
       "2012-10-27  10.26  10.84   9.82  10.17    47869.83  496747.54\n",
       "2012-10-28  10.70  10.95  10.25  10.26    22389.59  236640.50\n",
       "2012-10-29  10.60  10.94  10.32  10.70    37574.81  400173.50\n",
       "2012-10-30  10.89  10.89  10.58  10.60    26023.32  279843.08\n",
       "2012-10-31  11.20  11.21  10.71  10.89    40673.45  448359.79"
      ]
     },
     "execution_count": 10,
     "metadata": {},
     "output_type": "execute_result"
    }
   ],
   "source": [
    "hist.head()"
   ]
  },
  {
   "cell_type": "code",
   "execution_count": 11,
   "metadata": {
    "collapsed": true
   },
   "outputs": [],
   "source": [
    "target_col = 'close'"
   ]
  },
  {
   "cell_type": "code",
   "execution_count": 12,
   "metadata": {
    "collapsed": true
   },
   "outputs": [],
   "source": [
    "def train_test_split(df, test_size=0.1):\n",
    "    split_row = len(df) - int(test_size * len(df))\n",
    "    train_data = df.iloc[:split_row]\n",
    "    test_data = df.iloc[split_row:]\n",
    "    return train_data, test_data"
   ]
  },
  {
   "cell_type": "code",
   "execution_count": 19,
   "metadata": {
    "collapsed": true
   },
   "outputs": [],
   "source": [
    "train, test = train_test_split(hist, test_size=0.1)"
   ]
  },
  {
   "cell_type": "markdown",
   "metadata": {},
   "source": [
    "## Plot data"
   ]
  },
  {
   "cell_type": "code",
   "execution_count": 20,
   "metadata": {
    "collapsed": true
   },
   "outputs": [],
   "source": [
    "def line_plot(line1, line2, label1=None, label2=None, title='', lw=2):\n",
    "    fig, ax = plt.subplots(1, figsize=(16, 9))\n",
    "    ax.plot(line1, label=label1, linewidth=lw)\n",
    "    ax.plot(line2, label=label2, linewidth=lw)\n",
    "    ax.set_ylabel('price [USD]', fontsize=14)\n",
    "    ax.set_title(title, fontsize=18)\n",
    "    ax.legend(loc='best', fontsize=18);"
   ]
  },
  {
   "cell_type": "code",
   "execution_count": 24,
   "metadata": {},
   "outputs": [],
   "source": [
    "line_plot(train[target_col], test[target_col], 'training', 'test', title='BTC')"
   ]
  },
  {
   "cell_type": "markdown",
   "metadata": {},
   "source": [
    "## LSTM"
   ]
  },
  {
   "cell_type": "code",
   "execution_count": 25,
   "metadata": {
    "collapsed": true
   },
   "outputs": [],
   "source": [
    "def normalise_zero_base(df):\n",
    "    \"\"\" Normalise dataframe column-wise to reflect changes with respect to first entry. \"\"\"\n",
    "    return df / df.iloc[0] - 1\n",
    "\n",
    "def normalise_min_max(df):\n",
    "    \"\"\" Normalise dataframe column-wise min/max. \"\"\"\n",
    "    return (df - df.min()) / (data.max() - df.min())"
   ]
  },
  {
   "cell_type": "code",
   "execution_count": 26,
   "metadata": {
    "collapsed": true
   },
   "outputs": [],
   "source": [
    "def extract_window_data(df, window_len=10, zero_base=True):\n",
    "    \"\"\" Convert dataframe to overlapping sequences/windows of len `window_data`.\n",
    "    \n",
    "        :param window_len: Size of window\n",
    "        :param zero_base: If True, the data in each window is normalised to reflect changes\n",
    "            with respect to the first entry in the window (which is then always 0)\n",
    "    \"\"\"\n",
    "    window_data = []\n",
    "    for idx in range(len(df) - window_len):\n",
    "        tmp = df[idx: (idx + window_len)].copy()\n",
    "        if zero_base:\n",
    "            tmp = normalise_zero_base(tmp)\n",
    "        window_data.append(tmp.values)\n",
    "    return np.array(window_data)"
   ]
  },
  {
   "cell_type": "code",
   "execution_count": 27,
   "metadata": {
    "collapsed": true
   },
   "outputs": [],
   "source": [
    "def prepare_data(df, target_col, window_len=10, zero_base=True, test_size=0.2):\n",
    "    \"\"\" Prepare data for LSTM. \"\"\"\n",
    "    # train test split\n",
    "    train_data, test_data = train_test_split(df, test_size=test_size)\n",
    "    \n",
    "    # extract window data\n",
    "    X_train = extract_window_data(train_data, window_len, zero_base)\n",
    "    X_test = extract_window_data(test_data, window_len, zero_base)\n",
    "    \n",
    "    # extract targets\n",
    "    y_train = train_data[target_col][window_len:].values\n",
    "    y_test = test_data[target_col][window_len:].values\n",
    "    if zero_base:\n",
    "        y_train = y_train / train_data[target_col][:-window_len].values - 1\n",
    "        y_test = y_test / test_data[target_col][:-window_len].values - 1\n",
    "\n",
    "    return train_data, test_data, X_train, X_test, y_train, y_test"
   ]
  },
  {
   "cell_type": "code",
   "execution_count": 28,
   "metadata": {
    "collapsed": true
   },
   "outputs": [],
   "source": [
    "def build_lstm_model(input_data, output_size, neurons=20, activ_func='linear',\n",
    "                     dropout=0.25, loss='mae', optimizer='adam'):\n",
    "    model = Sequential()\n",
    "\n",
    "    model.add(LSTM(neurons, input_shape=(input_data.shape[1], input_data.shape[2])))\n",
    "    model.add(Dropout(dropout))\n",
    "    model.add(Dense(units=output_size))\n",
    "    model.add(Activation(activ_func))\n",
    "\n",
    "    model.compile(loss=loss, optimizer=optimizer)\n",
    "    return model"
   ]
  },
  {
   "cell_type": "code",
   "execution_count": 29,
   "metadata": {
    "collapsed": true
   },
   "outputs": [],
   "source": [
    "np.random.seed(42)\n",
    "\n",
    "# data params\n",
    "window_len = 7\n",
    "test_size = 0.1\n",
    "zero_base = True\n",
    "\n",
    "# model params\n",
    "lstm_neurons = 20\n",
    "epochs = 50\n",
    "batch_size = 4\n",
    "loss = 'mae'\n",
    "dropout = 0.25\n",
    "optimizer = 'adam'"
   ]
  },
  {
   "cell_type": "code",
   "execution_count": 30,
   "metadata": {
    "collapsed": true
   },
   "outputs": [],
   "source": [
    "train, test, X_train, X_test, y_train, y_test = prepare_data(\n",
    "    hist, target_col, window_len=window_len, zero_base=zero_base, test_size=test_size)"
   ]
  },
  {
   "cell_type": "code",
   "execution_count": 33,
   "metadata": {},
   "outputs": [
    {
     "name": "stdout",
     "output_type": "stream",
     "text": [
      "Epoch 1/50\n",
      "1794/1794 [==============================] - 2s 1ms/step - loss: 0.0781\n",
      "Epoch 2/50\n",
      "1794/1794 [==============================] - 2s 860us/step - loss: 0.0526\n",
      "Epoch 3/50\n",
      "1794/1794 [==============================] - 2s 868us/step - loss: 0.0471\n",
      "Epoch 4/50\n",
      "1794/1794 [==============================] - 2s 895us/step - loss: 0.0433\n",
      "Epoch 5/50\n",
      "1794/1794 [==============================] - 2s 938us/step - loss: 0.0402\n",
      "Epoch 6/50\n",
      "1794/1794 [==============================] - 2s 941us/step - loss: 0.0400\n",
      "Epoch 7/50\n",
      "1794/1794 [==============================] - 2s 915us/step - loss: 0.0387\n",
      "Epoch 8/50\n",
      "1794/1794 [==============================] - 2s 898us/step - loss: 0.0375\n",
      "Epoch 9/50\n",
      "1794/1794 [==============================] - 2s 906us/step - loss: 0.0375\n",
      "Epoch 10/50\n",
      "1794/1794 [==============================] - 2s 866us/step - loss: 0.0366\n",
      "Epoch 11/50\n",
      "1794/1794 [==============================] - 2s 867us/step - loss: 0.0367\n",
      "Epoch 12/50\n",
      "1794/1794 [==============================] - 2s 864us/step - loss: 0.0368\n",
      "Epoch 13/50\n",
      "1794/1794 [==============================] - 2s 946us/step - loss: 0.0365\n",
      "Epoch 14/50\n",
      "1794/1794 [==============================] - 2s 880us/step - loss: 0.0361\n",
      "Epoch 15/50\n",
      "1794/1794 [==============================] - 2s 905us/step - loss: 0.0372\n",
      "Epoch 16/50\n",
      "1794/1794 [==============================] - 2s 916us/step - loss: 0.0353\n",
      "Epoch 17/50\n",
      "1794/1794 [==============================] - 2s 861us/step - loss: 0.0354\n",
      "Epoch 18/50\n",
      "1794/1794 [==============================] - 2s 877us/step - loss: 0.0354\n",
      "Epoch 19/50\n",
      "1794/1794 [==============================] - 2s 910us/step - loss: 0.0362\n",
      "Epoch 20/50\n",
      "1794/1794 [==============================] - 2s 941us/step - loss: 0.0348\n",
      "Epoch 21/50\n",
      "1794/1794 [==============================] - 2s 931us/step - loss: 0.0352\n",
      "Epoch 22/50\n",
      "1794/1794 [==============================] - 2s 889us/step - loss: 0.0354\n",
      "Epoch 23/50\n",
      "1794/1794 [==============================] - 2s 869us/step - loss: 0.0370\n",
      "Epoch 24/50\n",
      "1794/1794 [==============================] - 2s 955us/step - loss: 0.0354\n",
      "Epoch 25/50\n",
      "1794/1794 [==============================] - 2s 907us/step - loss: 0.0349\n",
      "Epoch 26/50\n",
      "1794/1794 [==============================] - 2s 872us/step - loss: 0.0352\n",
      "Epoch 27/50\n",
      "1794/1794 [==============================] - 2s 893us/step - loss: 0.0356\n",
      "Epoch 28/50\n",
      "1794/1794 [==============================] - 2s 871us/step - loss: 0.0357\n",
      "Epoch 29/50\n",
      "1794/1794 [==============================] - 2s 862us/step - loss: 0.0352\n",
      "Epoch 30/50\n",
      "1794/1794 [==============================] - 2s 877us/step - loss: 0.0364\n",
      "Epoch 31/50\n",
      "1794/1794 [==============================] - 2s 862us/step - loss: 0.0351\n",
      "Epoch 32/50\n",
      "1794/1794 [==============================] - 2s 878us/step - loss: 0.0351\n",
      "Epoch 33/50\n",
      "1794/1794 [==============================] - 2s 882us/step - loss: 0.0355\n",
      "Epoch 34/50\n",
      "1794/1794 [==============================] - 2s 914us/step - loss: 0.0344\n",
      "Epoch 35/50\n",
      "1794/1794 [==============================] - 2s 877us/step - loss: 0.0346\n",
      "Epoch 36/50\n",
      "1794/1794 [==============================] - 2s 879us/step - loss: 0.0360\n",
      "Epoch 37/50\n",
      "1794/1794 [==============================] - 2s 915us/step - loss: 0.0345\n",
      "Epoch 38/50\n",
      "1794/1794 [==============================] - 2s 891us/step - loss: 0.0340\n",
      "Epoch 39/50\n",
      "1794/1794 [==============================] - 2s 867us/step - loss: 0.0345\n",
      "Epoch 40/50\n",
      "1794/1794 [==============================] - 2s 889us/step - loss: 0.0361\n",
      "Epoch 41/50\n",
      "1794/1794 [==============================] - 2s 869us/step - loss: 0.0354\n",
      "Epoch 42/50\n",
      "1794/1794 [==============================] - 2s 891us/step - loss: 0.0353\n",
      "Epoch 43/50\n",
      "1794/1794 [==============================] - 2s 894us/step - loss: 0.0349\n",
      "Epoch 44/50\n",
      "1794/1794 [==============================] - 2s 898us/step - loss: 0.0352\n",
      "Epoch 45/50\n",
      "1794/1794 [==============================] - 2s 913us/step - loss: 0.0352\n",
      "Epoch 46/50\n",
      "1794/1794 [==============================] - 2s 889us/step - loss: 0.0342\n",
      "Epoch 47/50\n",
      "1794/1794 [==============================] - 2s 883us/step - loss: 0.0348\n",
      "Epoch 48/50\n",
      "1794/1794 [==============================] - 2s 894us/step - loss: 0.0349\n",
      "Epoch 49/50\n",
      "1794/1794 [==============================] - 2s 888us/step - loss: 0.0350\n",
      "Epoch 50/50\n",
      "1794/1794 [==============================] - 2s 904us/step - loss: 0.0342\n"
     ]
    }
   ],
   "source": [
    "model = build_lstm_model(\n",
    "    X_train, output_size=1, neurons=lstm_neurons, dropout=dropout, loss=loss,\n",
    "    optimizer=optimizer)\n",
    "history = model.fit(\n",
    "    X_train, y_train, epochs=epochs, batch_size=batch_size, verbose=1, shuffle=True)"
   ]
  },
  {
   "cell_type": "markdown",
   "metadata": {},
   "source": [
    "## Plot predictions"
   ]
  },
  {
   "cell_type": "code",
   "execution_count": 34,
   "metadata": {},
   "outputs": [],
   "source": [
    "targets = test[target_col][window_len:]\n",
    "preds = model.predict(X_test).squeeze()"
   ]
  },
  {
   "cell_type": "code",
   "execution_count": 35,
   "metadata": {},
   "outputs": [
    {
     "data": {
      "text/plain": [
       "0.04606342295670795"
      ]
     },
     "execution_count": 35,
     "metadata": {},
     "output_type": "execute_result"
    }
   ],
   "source": [
    "mean_absolute_error(preds, y_test)"
   ]
  },
  {
   "cell_type": "code",
   "execution_count": 18,
   "metadata": {
    "collapsed": true
   },
   "outputs": [],
   "source": [
    "# 0.045261384613638447 with mae"
   ]
  },
  {
   "cell_type": "code",
   "execution_count": 36,
   "metadata": {},
   "outputs": [],
   "source": [
    "preds = test[target_col].values[:-window_len] * (preds + 1)\n",
    "preds = pd.Series(index=targets.index, data=preds)\n",
    "\n",
    "line_plot(targets, preds, 'actual', 'prediction', lw=3)"
   ]
  },
  {
   "cell_type": "code",
   "execution_count": 39,
   "metadata": {},
   "outputs": [],
   "source": [
    "n_points = 30\n",
    "\n",
    "line_plot(targets[-n_points:], preds[-n_points:], 'actual', 'prediction', lw=3)"
   ]
  },
  {
   "cell_type": "code",
   "execution_count": 40,
   "metadata": {},
   "outputs": [],
   "source": [
    "line_plot(targets[-n_points:][:-1], preds[-n_points:].shift(-1), 'actual', 'prediction', lw=3)"
   ]
  },
  {
   "cell_type": "markdown",
   "metadata": {},
   "source": [
    "## Compare returns"
   ]
  },
  {
   "cell_type": "code",
   "execution_count": 41,
   "metadata": {
    "collapsed": true
   },
   "outputs": [],
   "source": [
    "actual_returns = targets.pct_change()[1:]\n",
    "predicted_returns = preds.pct_change()[1:]"
   ]
  },
  {
   "cell_type": "code",
   "execution_count": 42,
   "metadata": {
    "collapsed": true
   },
   "outputs": [],
   "source": [
    "def dual_line_plot(line1, line2, line3, line4, label1=None, label2=None, title='', lw=2):\n",
    "    import matplotlib.dates as mdates\n",
    "    fig, (ax1, ax2) = plt.subplots(1, 2, figsize=(21, 9))\n",
    "    ax1.plot(line1, label=label1, linewidth=lw)\n",
    "    ax1.plot(line2, label=label2, linewidth=lw)\n",
    "    ax2.plot(line3, label=label1, linewidth=lw)\n",
    "    ax2.plot(line4, label=label2, linewidth=lw)\n",
    "    ax2.set_xticks(ax1.get_xticks())\n",
    "    ax2.xaxis.set_major_formatter(mdates.DateFormatter('%Y-%m-%d'))\n",
    "    ax1.set_ylabel('daily returns', fontsize=14)\n",
    "    ax2.legend(loc='best', fontsize=18);"
   ]
  },
  {
   "cell_type": "code",
   "execution_count": 43,
   "metadata": {},
   "outputs": [],
   "source": [
    "dual_line_plot(actual_returns[-n_points:],\n",
    "          predicted_returns[-n_points:],\n",
    "          actual_returns[-n_points:][:-1],\n",
    "          predicted_returns[-n_points:].shift(-1),\n",
    "          'actual returns', 'predicted returns', lw=3)"
   ]
  },
  {
   "cell_type": "code",
   "execution_count": 25,
   "metadata": {},
   "outputs": [
    {
     "data": {
      "image/png": "[encoded data removed]",
      "text/plain": [
       "<matplotlib.figure.Figure at 0x11dafb710>"
      ]
     },
     "metadata": {},
     "output_type": "display_data"
    }
   ],
   "source": [
    "line_plot(actual_returns[-n_points:][:-1], predicted_returns[-n_points:].shift(-1),\n",
    "           'actual returns', 'predicted returns', lw=3)"
   ]
  },
  {
   "cell_type": "code",
   "execution_count": 44,
   "metadata": {},
   "outputs": [],
   "source": [
    "fig, (ax1, ax2) = plt.subplots(1, 2, figsize=(18, 9))\n",
    "\n",
    "# actual correlation\n",
    "corr = np.corrcoef(actual_returns, predicted_returns)[0][1]\n",
    "ax1.scatter(actual_returns, predicted_returns, color='k', marker='o', alpha=0.5, s=100)\n",
    "ax1.set_title('r = {:.2f}'.format(corr), fontsize=18)\n",
    "\n",
    "# shifted correlation\n",
    "shifted_actual = actual_returns[:-1]\n",
    "shifted_predicted = predicted_returns.shift(-1).dropna()\n",
    "corr = np.corrcoef(shifted_actual, shifted_predicted)[0][1]\n",
    "ax2.scatter(shifted_actual, shifted_predicted, color='k', marker='o', alpha=0.5, s=100)\n",
    "ax2.set_title('r = {:.2f}'.format(corr), fontsize=18);"
   ]
  },
  {
   "cell_type": "code",
   "execution_count": null,
   "metadata": {
    "collapsed": true
   },
   "outputs": [],
   "source": []
  }
 ],
 "metadata": {
  "kernelspec": {
   "display_name": "Python 3",
   "language": "python",
   "name": "python3"
  },
  "language_info": {
   "codemirror_mode": {
    "name": "ipython",
    "version": 3
   },
   "file_extension": ".py",
   "mimetype": "text/x-python",
   "name": "python",
   "nbconvert_exporter": "python",
   "pygments_lexer": "ipython3",
   "version": "3.6.3"
  }
 },
 "nbformat": 4,
 "nbformat_minor": 2
}
